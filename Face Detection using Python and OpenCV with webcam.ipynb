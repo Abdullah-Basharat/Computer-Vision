{
 "cells": [
  {
   "cell_type": "markdown",
   "id": "f975ffff-43a1-4f32-a6ea-a7002bece698",
   "metadata": {},
   "source": [
    "Face detection is a important application of computer vision that involves identifying human faces in images or videos. In this Article, we will see how to build a simple real-time face detection application using Python and OpenCV where webcam will be used as the input source."
   ]
  },
  {
   "cell_type": "code",
   "execution_count": 1,
   "id": "59f5184d-9379-44c6-90ce-5ec73c8f8009",
   "metadata": {},
   "outputs": [],
   "source": [
    "import cv2"
   ]
  },
  {
   "cell_type": "code",
   "execution_count": 2,
   "id": "a8cc29d3-db22-4b4e-abf1-09550e94e820",
   "metadata": {},
   "outputs": [],
   "source": [
    "face_cascade = cv2.CascadeClassifier(cv2.data.haarcascades + 'haarcascade_frontalface_default.xml')"
   ]
  },
  {
   "cell_type": "code",
   "execution_count": 3,
   "id": "dba62c74-7bf9-4ecd-ab69-a571208e370b",
   "metadata": {},
   "outputs": [],
   "source": [
    "cap = cv2.VideoCapture(0)"
   ]
  },
  {
   "cell_type": "markdown",
   "id": "0810c20e-f3ca-49a8-92a5-030b0a9de729",
   "metadata": {},
   "source": [
    "### 🔄 Converting BGR to Grayscale in OpenCV\n",
    "\n",
    "OpenCV converts a 3-channel BGR image into a 1-channel grayscale image using a weighted sum of the Blue, Green, and Red channels. This is based on the ITU-R BT.601 standard.\n",
    "\n",
    "---\n",
    "\n",
    "#### 📌 Formula\n",
    "\n",
    "The grayscale value is computed as:\n",
    "\n",
    "\\[\n",
    "Gray = 0.299 \\cdot R + 0.587 \\cdot G + 0.114 \\cdot B\n",
    "\\]\n",
    "\n",
    "- **Red (R)** → 29.9% weight  \n",
    "- **Green (G)** → 58.7% weight  \n",
    "- **Blue (B)** → 11.4% weight  \n",
    "\n",
    "---\n",
    "\n",
    "#### ⚡ Why these weights?\n",
    "\n",
    "- Human vision is most sensitive to green, less sensitive to red, and least sensitive to blue.  \n",
    "- A simple average like \\((R + G + B)/3\\) would not reflect how we actually perceive brightness.  \n",
    "- These weighted values give a grayscale image that looks more natural to human eyes.\n",
    "\n",
    "---\n",
    "\n",
    "#### 🛠 Example\n",
    "\n",
    "For a pixel with values:\n",
    "\n",
    "- Blue = 50  \n",
    "- Green = 100  \n",
    "- Red = 150  \n",
    "\n",
    "The grayscale value is:\n",
    "\n",
    "\\[\n",
    "Gray = 0.299 \\times 150 + 0.587 \\times 100 + 0.114 \\times 50 \\\\\n",
    "Gray \\approx 109\n",
    "\\]\n",
    "\n",
    "So this pixel would be represented as **109** in the grayscale image.\n"
   ]
  },
  {
   "cell_type": "code",
   "execution_count": 4,
   "id": "b9f72678-d1c8-4cf6-8214-74b64eb6885f",
   "metadata": {},
   "outputs": [],
   "source": [
    "while True:\n",
    "    ret, frame = cap.read()  \n",
    "    if not ret:\n",
    "        print(\"Error: Could not read frame.\")\n",
    "        break\n",
    "\n",
    "    gray = cv2.cvtColor(frame, cv2.COLOR_BGR2GRAY)  \n",
    "    faces = face_cascade.detectMultiScale(gray, scaleFactor=1.1, minNeighbors=5, minSize=(30, 30))  # Detect faces\n",
    "    for (x, y, w, h) in faces:\n",
    "        cv2.rectangle(frame, (x, y), (x + w, y + h), (0, 255, 0), 2) \n",
    "\n",
    "    cv2.imshow('Face Detection', frame)\n",
    "    if cv2.waitKey(1) & 0xFF == ord('q'):\n",
    "        break\n",
    "cap.release()\n",
    "cv2.destroyAllWindows()\n",
    "    "
   ]
  },
  {
   "cell_type": "code",
   "execution_count": null,
   "id": "e5e3471e-6012-433c-a908-b7332ade6849",
   "metadata": {},
   "outputs": [],
   "source": []
  }
 ],
 "metadata": {
  "kernelspec": {
   "display_name": "Python 3 (ipykernel)",
   "language": "python",
   "name": "python3"
  },
  "language_info": {
   "codemirror_mode": {
    "name": "ipython",
    "version": 3
   },
   "file_extension": ".py",
   "mimetype": "text/x-python",
   "name": "python",
   "nbconvert_exporter": "python",
   "pygments_lexer": "ipython3",
   "version": "3.11.11"
  }
 },
 "nbformat": 4,
 "nbformat_minor": 5
}
